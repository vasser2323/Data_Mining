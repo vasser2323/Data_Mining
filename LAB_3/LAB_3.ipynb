{
 "cells": [
  {
   "cell_type": "markdown",
   "metadata": {},
   "source": [
    "<h1><center>Генетический алгоритм для решения задачи комбинаторики</center></h1> \n",
    "<h3><center>Составление расписания</center></h3>"
   ]
  },
  {
   "cell_type": "markdown",
   "metadata": {},
   "source": [
    "*Выполнили студенты группы 6131-010402D Павлов Владислав, Вахлаева Марина, Иванов Илья*"
   ]
  },
  {
   "cell_type": "markdown",
   "metadata": {},
   "source": [
    "**Про задачу:**\n",
    "    \n",
    "Отделения неотложной помощи имеют повторяющиеся 24-часовые циклы нестационарных пуассоновских поступлений и высокий уровень вариации времени обслуживания. Задача состоит в том, чтобы найти график смен, учитывающий эффекты обращений, минимизирующий среднее время ожидания пациентов и максимизирующий предпочтения бригад скорой помощи в отношении смен при ограничениях на время начала смены, продолжительности смены и общее количество доступных часов работы бригад в день.  "
   ]
  },
  {
   "cell_type": "markdown",
   "metadata": {},
   "source": [
    "**Набор данных:**\n",
    "- Имеется таблица со средними значениями обращений пациентов (распределенных по закону Пуассона), поступающих в течение каждого часа на протяжении суток; \n",
    "\n",
    "<img src=\"Image\\table1.png\" width=\"500\" height=\"300\">\n",
    "\n",
    "<h4><center>   </center></h4>\n",
    "\n",
    "- Таблица с значениями предпочтений при выборе смены;\n",
    "\n",
    "<h4><center>     </center></h4>\n",
    "\n",
    "<img src=\"Image\\table2.png\" width=\"500\" height=\"150\">\n",
    "\n",
    "Значения предпочтений варьируются от 6 до 1, где 6 - наиболее предпочитаемая смена, 1 - наименее. \n",
    "<h4><center>   </center></h4>\n",
    "\n",
    "- Также известно, что среднее время обслуживания одного пациента составляет в среднем 15 минут (время обсуживания распределено по экспоненциальному закону распределения);\n",
    "- Максимальное количество человеко-часов составляет 48 ч. (как мы понимаем данное выражение - максимум за сутки суммарно все врачи могут работать 28 часов); "
   ]
  },
  {
   "cell_type": "markdown",
   "metadata": {},
   "source": [
    "**Ограничения:**\n",
    "1) Не допускается сверхурочная работа, т.е. общее количество часов суммарно у всех бригад скорой помощи не должно превышать 48 часов в сутки; \n",
    "2) Каждый час должна присутсвовать хотя бы одна бригада скорой помщи; \n",
    "3) Смены могут начинаться только в то время, которое указано в таблице предпочтений (т.е. 7:00, 11:00, 15:00, 17:00, 23:00)\n",
    "\n",
    "*Допущение* - мы будем считать, что с началом каждой смены на работу выходит лишь 1 бригада скорой помощи.\n",
    "\n",
    "<h4><center>   </center></h4>\n",
    "\n",
    "**Решение:**\n",
    "\n",
    "Необходимо минимизировать среднее время ожидания пациентов и максимизировать предпочтения бригад скорой помощи, т.е. решить следующую задачу:\n",
    "\n",
    "<img src=\"Image\\2.png\" width=\"550\" height=\"150\">\n",
    "\n",
    "Здесь: \n",
    "- омега 1 - штраф, связанный с среднем временем ожидания пациента;\n",
    "- wi - общее среднее время ожидания пациента за период времени i; \n",
    "- омега 2 - штраф, связанный с неудовлетворением предпочтений;\n",
    "- Pj - предпочтения j-ой смены \n",
    "- T - сутки; \n",
    "- J - все смены за сутки."
   ]
  },
  {
   "cell_type": "markdown",
   "metadata": {},
   "source": [
    "**Шаги генетического алгоритма:**\n",
    "1. Инициализация начальной популяции \n",
    "2. Вычисление приспособленности каждой особи\n",
    "3. Селекция\n",
    "4. Скрещивание \n",
    "5. Мутация \n",
    "\n",
    "Этап мутации в данной задаче опущен.\n",
    "\n",
    "Из-за ограничений этой задачи невозможно напрямую использовать генетический алгоритм в том виде, в котором он описан выше. В частности, после скрещивания могут остаться решения, не удовлетворяющие ограничениям. Следовательно, чтобы получить выполнимый набор потомков, требуется изменить способ скрещивания, либо удалить невыполнимые решения после скрещивания и заменить их решениями с более высоким значением пригодности в старой популяции, что и реализуется в данном алгоритме. "
   ]
  },
  {
   "cell_type": "code",
   "execution_count": 1,
   "metadata": {},
   "outputs": [],
   "source": [
    "import numpy as np\n",
    "import csv\n",
    "import pandas as pd\n",
    "import random\n"
   ]
  },
  {
   "cell_type": "markdown",
   "metadata": {},
   "source": [
    "### Необходимые наборы данных"
   ]
  },
  {
   "cell_type": "code",
   "execution_count": 2,
   "metadata": {},
   "outputs": [],
   "source": [
    "# среднее количество пациентов, поступающих в час\n",
    "avg_patients = {\n",
    "    0: [\"00:00\", 3.690616],\n",
    "    1: [\"01:00\", 2.911858],\n",
    "    2: [\"02:00\", 2.293054],\n",
    "    3: [\"03:00\", 2.017725],\n",
    "    4: [\"04:00\", 1.831175],\n",
    "    5: [\"05:00\", 1.856022],\n",
    "    6: [\"06:00\", 2.251625],\n",
    "    7: [\"07:00\", 3.803911],\n",
    "    8: [\"08:00\", 5.446445],\n",
    "    9: [\"09:00\", 7.066014],\n",
    "    10: [\"10:00\", 7.939452],\n",
    "    11: [\"11:00\", 8.49382],\n",
    "    12: [\"12:00\", 8.178273],\n",
    "    13: [\"13:00\", 7.79489],\n",
    "    14: [\"14:00\", 7.792522],\n",
    "    15: [\"15:00\", 8.053659],\n",
    "    16: [\"16:00\", 7.983501],\n",
    "    17: [\"17:00\", 7.969416],\n",
    "    18: [\"18:00\", 8.282366],\n",
    "    19: [\"19:00\", 7.664413],\n",
    "    20: [\"20:00\", 7.238266],\n",
    "    21: [\"21:00\", 6.578026],\n",
    "    22: [\"22:00\", 5.526836],\n",
    "    23: [\"23:00\", 4.336112], \n",
    "}\n",
    "\n",
    "# набор данных с предпочтением бригад скорой помощи на каждую смену \n",
    "shifts_preference = {\n",
    "    0: [\"7:00\", 8, 6],\n",
    "    1: [\"7:00\", 10, 5],\n",
    "    2: [\"7:00\", 12, 3],\n",
    "    3: [\"11:00\", 8, 6],\n",
    "    4: [\"11:00\", 10, 3],\n",
    "    5: [\"11:00\", 12, 4],\n",
    "    6: [\"15:00\", 8, 6],\n",
    "    7: [\"15:00\", 10, 3],\n",
    "    8: [\"15:00\", 12, 1],\n",
    "    9: [\"19:00\", 8, 4],\n",
    "    10: [\"19:00\", 10, 4],\n",
    "    11: [\"19:00\", 12, 2],\n",
    "    12: [\"23:00\", 8, 2],\n",
    "    13: [\"23:00\", 10, 3],\n",
    "    14: [\"23:00\", 12, 3],\n",
    "    15: [\"no schedule\", 0, 0]\n",
    "}\n",
    "\n",
    "# набор данных с временем начала смены и продолжительностью\n",
    "shifts = {\n",
    "    0: [\"7:00\", 8],\n",
    "    1: [\"7:00\", 10],\n",
    "    2: [\"7:00\", 12],\n",
    "    3: [\"11:00\", 8],\n",
    "    4: [\"11:00\", 10],\n",
    "    5: [\"11:00\", 12],\n",
    "    6: [\"15:00\", 8],\n",
    "    7: [\"15:00\", 10],\n",
    "    8: [\"15:00\", 12],\n",
    "    9: [\"19:00\", 8],\n",
    "    10: [\"19:00\", 10],\n",
    "    11: [\"19:00\", 12],\n",
    "    12: [\"23:00\", 8],\n",
    "    13: [\"23:00\", 10],\n",
    "    14: [\"23:00\", 12],\n",
    "    15: [\"no schedule\", 0]\n",
    "}"
   ]
  },
  {
   "cell_type": "markdown",
   "metadata": {},
   "source": [
    "### Инициализация популяции"
   ]
  },
  {
   "cell_type": "markdown",
   "metadata": {},
   "source": [
    "<img src=\"Image\\ch.png\" width=\"500\" height=\"250\">"
   ]
  },
  {
   "cell_type": "code",
   "execution_count": 3,
   "metadata": {},
   "outputs": [],
   "source": [
    "def generate_chromosome(population_size, shifts):\n",
    "\n",
    "    # Максимальное количество часов должны отработать бригады в день\n",
    "    max_hours = 48 \n",
    "    \n",
    "    # считываются индексы (ключи) из словаря shifts\n",
    "    available_shifts = list(shifts.keys())\n",
    "    \n",
    "    # Создаем пустой список для хранения хромосом\n",
    "    population = []\n",
    "    hour_counts = []\n",
    "\n",
    "    # Генерируем популяцию\n",
    "    while len(population) < population_size:\n",
    "        chromosome = []\n",
    "    \n",
    "        # Генерируем каждый ген в хромосоме\n",
    "        for _ in range(6):\n",
    "            gene_value = random.choice(available_shifts)\n",
    "            \n",
    "            # Добавляем ген в хромосому\n",
    "            chromosome.append(gene_value)\n",
    "        chromosome.append(0)\n",
    "\n",
    "        dur = []\n",
    "\n",
    "        # Подсчитываем общее количество часов для хромосомы\n",
    "        chromosome_ = chromosome[:-1]\n",
    "        for gene in chromosome_:  \n",
    "            start_time, duration = shifts[gene]         \n",
    "            dur.append(duration)\n",
    "    \n",
    "        total_hours_dur = sum(dur)\n",
    "\n",
    "        # Проверяем превышение максимального количества часов\n",
    "        if total_hours_dur <= max_hours:\n",
    "\n",
    "        # Создаем список всех часов в сутках\n",
    "            all_hours = list(range(24))\n",
    "\n",
    "            # Создаем временный словарь для подсчета врачей в текущей хромосоме\n",
    "            temp_hour_count = {hour: 0 for hour in all_hours}\n",
    "\n",
    "            # Проходим по каждому гену в текущей хромосоме\n",
    "            for gene_value in chromosome_:\n",
    "                # Проверяем, если смена с данным номером существует в словаре shifts\n",
    "                if gene_value in shifts:\n",
    "                    start_time, duration = shifts[gene_value]  # Получаем время начала смены и ее длительность\n",
    "                    \n",
    "                    # Если смена имеет расписание, обновляем подсчет врачей\n",
    "                    if start_time != \"no schedule\":\n",
    "                        start_hour = int(start_time.split(\":\")[0])  # Получаем час начала смены\n",
    "                        # Подсчитываем количество врачей в каждом часу смены\n",
    "                        for hour in range(start_hour, start_hour + duration + 1):\n",
    "                            temp_hour_count[hour % 24] += 1  # Обработка цикличности часов\n",
    "\n",
    "            # Создаем пустой список для хранения количества врачей в каждом часу\n",
    "            hour_count = {hour: 0 for hour in all_hours}\n",
    "\n",
    "            # Обновляем общий подсчет врачей на основе текущей хромосомы\n",
    "            for hour in all_hours:\n",
    "                hour_count[hour] += temp_hour_count[hour]\n",
    "\n",
    "            # Проверяем, если хотя бы один час имеет 0 свободных врачей, устанавливаем флаг в False\n",
    "            if 0 in hour_count.values():\n",
    "                chromosome_valid = False\n",
    "            else:\n",
    "                chromosome_valid = True\n",
    "                \n",
    "            if chromosome_valid == True:\n",
    "                population.append(chromosome)\n",
    "                hour_counts.append(list(hour_count.values()))\n",
    "    \n",
    "    return population, hour_counts\n"
   ]
  },
  {
   "cell_type": "code",
   "execution_count": 4,
   "metadata": {},
   "outputs": [],
   "source": [
    "def check_population(population, shifts):\n",
    "\n",
    "    checked_population = []\n",
    "\n",
    "        # Подсчитываем общее количество часов для хромосомы\n",
    "    for chromosome in population:\n",
    "        dur = []\n",
    "        max_hours = 48 \n",
    "        # available_shifts = list(shifts.keys())\n",
    "        population = []\n",
    "        hour_counts = []\n",
    "\n",
    "        for gene in chromosome[:-1]:  \n",
    "            start_time, duration = shifts[gene]         \n",
    "            dur.append(duration)\n",
    "    \n",
    "        total_hours_dur = sum(dur)\n",
    "\n",
    "        # Проверяем превышение максимального количества часов\n",
    "        if total_hours_dur <= max_hours:\n",
    "\n",
    "        # Создаем список всех часов в сутках\n",
    "            all_hours = list(range(24))\n",
    "\n",
    "            # Создаем временный словарь для подсчета врачей в текущей хромосоме\n",
    "            temp_hour_count = {hour: 0 for hour in all_hours}\n",
    "\n",
    "            # Проходим по каждому гену в текущей хромосоме\n",
    "            for gene_value in chromosome[:-1]:\n",
    "                # Проверяем, если смена с данным номером существует в словаре shifts\n",
    "                if gene_value in shifts:\n",
    "                    start_time, duration = shifts[gene_value]  # Получаем время начала смены и ее длительность\n",
    "                    \n",
    "                    # Если смена имеет расписание, обновляем подсчет врачей\n",
    "                    if start_time != \"no schedule\":\n",
    "                        start_hour = int(start_time.split(\":\")[0])  # Получаем час начала смены\n",
    "                        # Подсчитываем количество врачей в каждом часу смены\n",
    "                        for hour in range(start_hour, start_hour + duration + 1):\n",
    "                            temp_hour_count[hour % 24] += 1  # Обработка цикличности часов\n",
    "\n",
    "            # Создаем пустой список для хранения количества врачей в каждом часу\n",
    "            hour_count = {hour: 0 for hour in all_hours}\n",
    "\n",
    "            # Обновляем общий подсчет врачей на основе текущей хромосомы\n",
    "            for hour in all_hours:\n",
    "                hour_count[hour] += temp_hour_count[hour]\n",
    "\n",
    "            # Проверяем, если хотя бы один час имеет 0 свободных врачей, устанавливаем флаг в False\n",
    "            if 0 in hour_count.values():\n",
    "                chromosome_valid = False\n",
    "            else:\n",
    "                chromosome_valid = True\n",
    "                \n",
    "            if chromosome_valid == True:\n",
    "                checked_population.append(chromosome)\n",
    "                hour_counts.append(list(hour_count.values()))\n",
    "    return checked_population"
   ]
  },
  {
   "cell_type": "markdown",
   "metadata": {},
   "source": [
    "##### Проверка на работоспособность функции инициализации"
   ]
  },
  {
   "cell_type": "code",
   "execution_count": 5,
   "metadata": {},
   "outputs": [],
   "source": [
    "# population, hour_counts = generate_chromosome(10, shifts)\n",
    "# for chromosome in population:\n",
    "#     print(chromosome)"
   ]
  },
  {
   "cell_type": "markdown",
   "metadata": {},
   "source": [
    "### Вычисление фитнесс - функции\n"
   ]
  },
  {
   "cell_type": "code",
   "execution_count": 6,
   "metadata": {},
   "outputs": [],
   "source": [
    "def fitness(population, hour_counts):\n",
    "    \n",
    "    mean_pat = [shifts[1] for shifts in avg_patients.values()] # берем из словаря \"avg_patients\" среднее количество пациентов в очереди\n",
    "    pj = [shift[2] for shift in shifts_preference.values()] # берем из словаря \"shifts_preference\"\n",
    "\n",
    "    z_fit = np.zeros(len(population)) \n",
    "    min_value = np.inf\n",
    "    best_chromosome_ = None\n",
    "\n",
    "    for i, chromosome in enumerate(population):\n",
    "        chromosome_ = chromosome[:-1]\n",
    "\n",
    "        #1-ое слагаемое в функции \n",
    "\n",
    "        w_list = []\n",
    "        w_penalty = []\n",
    "\n",
    "        for hours in range(24):\n",
    "\n",
    "            lamb = np.random.poisson(mean_pat[hours])\n",
    "            mu = np.clip(np.random.exponential(15, size=1), 0.5, np.inf)\n",
    "            s = hour_counts[hours]\n",
    "            w = (np.array(lamb))/(s*np.abs(mu-np.array(lamb)))\n",
    "            \n",
    "            w_list.append(w)\n",
    "            w_penalty.append(np.abs(mu - 15))\n",
    "\n",
    "        sum_w = np.sum(w_list) \n",
    "        sum_omega_1 = np.sum(w_penalty)\n",
    "\n",
    "        norm_omega_1 = (sum_omega_1 - np.min(w_penalty))/(np.max(w_penalty) - np.min(w_penalty))\n",
    "\n",
    "        res_1 = norm_omega_1 * sum_w\n",
    "\n",
    "        # Вычисление 2-ого слагаемого\n",
    "\n",
    "        omega_2_list = []\n",
    "        p_list = []\n",
    "\n",
    "        for gene in chromosome_:\n",
    "\n",
    "            if gene == 15:\n",
    "                omega_2 = 0\n",
    "                omega_2_list.append(omega_2)\n",
    "            else:\n",
    "                omega_2 = 6 - pj[gene]\n",
    "                omega_2_list.append(omega_2)\n",
    "            \n",
    "            sum_omega_2 = np.sum(omega_2_list)\n",
    "            omega_2_norm = (sum_omega_2 - np.min(omega_2_list))/(np.max(omega_2_list) - np.min(omega_2_list))\n",
    "\n",
    "            p_list.append(pj[gene])\n",
    "\n",
    "        sum_p = np.sum(p_list)\n",
    "\n",
    "        res_2 = sum_p * omega_2_norm\n",
    "\n",
    "        # Вычисление значения z\n",
    "        z = res_1 + res_2\n",
    "\n",
    "        chromosome[6] = z\n",
    "\n",
    "        if z < min_value:\n",
    "            min_value = z\n",
    "        \n",
    "            if chromosome[6] == min_value:\n",
    "                best_chromosome_ = chromosome_\n",
    "        \n",
    "        z_fit[i] = z\n",
    "\n",
    "    return population, z_fit, min_value, best_chromosome_"
   ]
  },
  {
   "cell_type": "markdown",
   "metadata": {},
   "source": [
    "##### Проверка работоспособности фитнесс функции"
   ]
  },
  {
   "cell_type": "code",
   "execution_count": 7,
   "metadata": {},
   "outputs": [],
   "source": [
    "# population, hour_counts = generate_chromosome(population_size= 10, shifts = shifts)\n",
    "# population1, z_fit, min_value, best_chromosome_ = fitness(population, hour_counts= hour_counts)\n",
    "\n",
    "# print(population1)\n",
    "# print(z_fit)"
   ]
  },
  {
   "cell_type": "markdown",
   "metadata": {},
   "source": [
    "### Селекция"
   ]
  },
  {
   "cell_type": "code",
   "execution_count": 8,
   "metadata": {},
   "outputs": [],
   "source": [
    "def selection(population):\n",
    "\n",
    "    sorted_lists = sorted(population, key=lambda x: x[6], reverse = False)\n",
    "\n",
    "    selected_lists = sorted_lists[0:int(len(sorted_lists) * 0.8)]\n",
    "\n",
    "\n",
    "    no_parents = int(len(selected_lists) / 2) \n",
    "    indx = list(range(len(selected_lists))) \n",
    "    random.shuffle(indx)  \n",
    "    \n",
    "    group1 = indx[:no_parents]\n",
    "    group2 = indx[no_parents:]\n",
    "\n",
    "    selected_pairs = [] \n",
    "    for i in range(no_parents):\n",
    "        parent1 = random.choice(group1)\n",
    "        parent2 = random.choice(group2)\n",
    "        selected_pairs.append(selected_lists[parent1])\n",
    "        selected_pairs.append(selected_lists[parent2])\n",
    "\n",
    "        group1.remove(parent1)\n",
    "        group2.remove(parent2)\n",
    "    \n",
    "\n",
    "    return selected_pairs"
   ]
  },
  {
   "cell_type": "markdown",
   "metadata": {},
   "source": [
    "### Скрещивание"
   ]
  },
  {
   "cell_type": "markdown",
   "metadata": {},
   "source": [
    "<img src=\"Image\\cross.png\" width=\"500\" height=\"200\">"
   ]
  },
  {
   "cell_type": "code",
   "execution_count": 9,
   "metadata": {},
   "outputs": [],
   "source": [
    "def swapgenes(chromosome1, chromosome2, crossover_point,):\n",
    "\n",
    "    child1 = chromosome1.copy()\n",
    "    child2 = chromosome2.copy()\n",
    "\n",
    "    # Обмен значений генов на заданной точке пересечения\n",
    "    for i in range(crossover_point + 1):\n",
    "        child1[i] = chromosome2[i]\n",
    "        child2[i] = chromosome1[i]\n",
    "\n",
    "    return child1, child2\n",
    "\n",
    "def crossover(selected, crossover_point):\n",
    "    children = []\n",
    "\n",
    "    for i in range(0, len(selected), 2):\n",
    "        child1, child2 = swapgenes(selected[i], selected[i + 1], crossover_point)  # Распаковка кортежа\n",
    "        children.append(child1)\n",
    "        children.append(child2)\n",
    "\n",
    "    return children\n",
    "\n",
    "def check(children, selected_pairs, shifts):\n",
    "    # check_children_ = check_children\n",
    "\n",
    "    check_child = check_population(children, shifts)\n",
    "    diff = len(children) - len(check_child)\n",
    "    plus_child = random.choices(selected_pairs, k = diff)\n",
    "\n",
    "    # check_children_ = check_children\n",
    "    check_child.extend(plus_child)\n",
    "\n",
    "\n",
    "    return check_child\n",
    "\n",
    "\n",
    "\n",
    "    "
   ]
  },
  {
   "cell_type": "code",
   "execution_count": 10,
   "metadata": {},
   "outputs": [
    {
     "name": "stdout",
     "output_type": "stream",
     "text": [
      "[[15, 1, 13, 11, 0, 15, 0], [6, 7, 12, 15, 14, 6, 0], [7, 12, 0, 15, 9, 13, 0], [1, 9, 6, 1, 15, 15, 0], [12, 3, 12, 1, 6, 4, 0], [12, 15, 6, 0, 15, 7, 0], [10, 3, 2, 14, 15, 1, 0], [15, 5, 2, 12, 3, 15, 0], [11, 15, 13, 6, 15, 2, 0], [13, 15, 14, 8, 15, 1, 0], [6, 2, 3, 9, 12, 3, 0], [0, 15, 13, 4, 13, 15, 0], [1, 6, 12, 15, 2, 10, 0], [10, 12, 6, 15, 6, 15, 0], [10, 12, 4, 13, 0, 12, 0], [12, 5, 15, 9, 2, 15, 0]]\n",
      "16\n"
     ]
    }
   ],
   "source": [
    "population, hour_counts = generate_chromosome(population_size= 20, shifts= shifts)\n",
    "selected = selection(population)\n",
    "children = crossover(selected, crossover_point= 2)\n",
    "print(children)\n",
    "print(len(children))\n",
    "chiks = check(children, selected, shifts)\n"
   ]
  },
  {
   "cell_type": "code",
   "execution_count": 11,
   "metadata": {},
   "outputs": [
    {
     "name": "stdout",
     "output_type": "stream",
     "text": [
      "[[13, 3, 15, 12, 15, 11, 0], [0, 8, 3, 13, 6, 1, 0], [11, 14, 15, 9, 12, 15, 0], [8, 2, 12, 7, 2, 15, 0], [9, 11, 15, 3, 7, 13, 0], [15, 13, 0, 0, 9, 7, 0], [0, 7, 3, 0, 2, 15, 0], [11, 3, 0, 12, 3, 15, 0], [3, 12, 11, 9, 12, 15, 0], [1, 5, 15, 15, 9, 0, 0], [14, 15, 9, 3, 9, 0, 0], [15, 13, 4, 9, 9, 2, 0], [2, 12, 4, 15, 6, 2, 0], [11, 9, 9, 15, 12, 10, 0], [1, 13, 7, 4, 15, 5, 0], [14, 8, 15, 12, 10, 15, 0], [15, 6, 7, 4, 15, 6, 0], [1, 12, 7, 1, 12, 12, 0], [12, 6, 15, 15, 12, 9, 0], [6, 12, 1, 10, 0, 6, 0], [14, 1, 9, 6, 7, 11, 0], [7, 0, 15, 12, 6, 15, 0], [14, 10, 3, 6, 12, 12, 0], [2, 15, 10, 15, 0, 3, 0], [10, 15, 3, 15, 11, 6, 0], [0, 6, 0, 14, 2, 15, 0], [3, 9, 13, 15, 1, 14, 0], [6, 6, 10, 15, 6, 14, 0], [0, 15, 11, 0, 6, 8, 0], [15, 14, 6, 6, 10, 7, 0], [14, 5, 3, 0, 9, 9, 0], [15, 11, 6, 12, 15, 3, 0], [12, 9, 2, 11, 8, 15, 0], [1, 7, 15, 0, 2, 15, 0], [9, 15, 1, 14, 3, 9, 0], [4, 15, 1, 12, 13, 8, 0], [9, 12, 14, 3, 9, 15, 0], [14, 9, 15, 4, 15, 12, 0], [15, 0, 7, 3, 15, 1, 0], [4, 3, 11, 11, 1, 15, 0]]\n",
      "[[15, 13, 0, 0, 9, 7, 0], [11, 3, 0, 12, 3, 15, 0], [14, 15, 9, 3, 9, 0, 0], [15, 13, 4, 9, 9, 2, 0], [7, 0, 15, 12, 6, 15, 0], [0, 6, 0, 14, 2, 15, 0], [3, 9, 13, 15, 1, 14, 0], [0, 15, 11, 0, 6, 8, 0], [9, 15, 1, 14, 3, 9, 0], [9, 12, 14, 3, 9, 15, 0], [14, 9, 15, 4, 15, 12, 0]]\n"
     ]
    }
   ],
   "source": [
    "population, hour_counts = generate_chromosome(population_size= 50, shifts= shifts)\n",
    "selected = selection(population)\n",
    "children = crossover(selected, crossover_point= 2)\n",
    "checked = check_population(children, shifts = shifts)\n",
    "print(children)\n",
    "print(checked)"
   ]
  },
  {
   "cell_type": "markdown",
   "metadata": {},
   "source": [
    "### Проверка работоспособности функции \"crossover\""
   ]
  },
  {
   "cell_type": "code",
   "execution_count": 12,
   "metadata": {},
   "outputs": [],
   "source": [
    "# pop, hour_counts = generate_chromosome(population_size= 10, shifts= shifts)\n",
    "# pop1 = fitness(pop)\n",
    "# selected = selection(pop1)\n",
    "# children = crossover(selected, crossover_point= 2)\n",
    "\n",
    "# print(f'Выбранные родители: {selected};  Дети: {children}')\n"
   ]
  },
  {
   "cell_type": "markdown",
   "metadata": {},
   "source": [
    "### Реализация генетического алгоритма"
   ]
  },
  {
   "cell_type": "code",
   "execution_count": 13,
   "metadata": {},
   "outputs": [],
   "source": [
    "def GA_Find_GlobalMinima(population_size, no_generations):\n",
    "\n",
    "    population, hour_counts = generate_chromosome(population_size, shifts=shifts)\n",
    "    best_chrom = None\n",
    "    best_fitness = float('inf')\n",
    "    \n",
    "    for generation in range(no_generations):\n",
    "        populate, z_fit, min_value, best = fitness(population, hour_counts)   \n",
    "        selected_pairs = selection(populate) \n",
    "        newpopulation = crossover(selected_pairs, 2) \n",
    "        chiks = check(newpopulation, selected_pairs, shifts)\n",
    "        population = chiks\n",
    "        \n",
    "        # Обновление лучшей хромосомы\n",
    "        if min_value < best_fitness:\n",
    "            best_chrom = np.append(best, min_value)\n",
    "            best_fitness = min_value\n",
    "             \n",
    "    return best_chrom, best_fitness\n",
    "\n",
    "\n",
    "# population, hour_counts = generate_chromosome(population_size= 20, shifts= shifts)\n",
    "# selected = selection(population)\n",
    "# children = crossover(selected, crossover_point= 2)\n",
    "# print(children)\n",
    "# print(len(children))\n",
    "# chiks = check(children, selected, shifts)"
   ]
  },
  {
   "cell_type": "markdown",
   "metadata": {},
   "source": [
    "##### Проверка работоспособности генетического алгоритма"
   ]
  },
  {
   "cell_type": "code",
   "execution_count": 14,
   "metadata": {},
   "outputs": [
    {
     "name": "stderr",
     "output_type": "stream",
     "text": [
      "C:\\Temp\\ipykernel_19372\\148149161.py:50: RuntimeWarning: invalid value encountered in scalar divide\n",
      "  omega_2_norm = (sum_omega_2 - np.min(omega_2_list))/(np.max(omega_2_list) - np.min(omega_2_list))\n",
      "C:\\Temp\\ipykernel_19372\\148149161.py:50: RuntimeWarning: divide by zero encountered in scalar divide\n",
      "  omega_2_norm = (sum_omega_2 - np.min(omega_2_list))/(np.max(omega_2_list) - np.min(omega_2_list))\n"
     ]
    },
    {
     "name": "stdout",
     "output_type": "stream",
     "text": [
      "[  0.           5.          15.          12.           1.\n",
      "   4.         842.97177178]\n",
      "842.9717717830775\n"
     ]
    }
   ],
   "source": [
    "best_chrom1, best_fit = GA_Find_GlobalMinima(population_size= 1000, no_generations= 2000)\n",
    "print(best_chrom1)\n",
    "print(best_fit)\n"
   ]
  },
  {
   "cell_type": "markdown",
   "metadata": {},
   "source": [
    "### Вывод: в ходе выполнения данной работы, мы получили хромосому (график смены), которая удовлетворяет заданным ограничениям: В сумме продолжительность смен в день не должна превышать 48 часов\n",
    "### В каждый час должна быть хотя бы 1 свободная бригада. "
   ]
  },
  {
   "cell_type": "markdown",
   "metadata": {},
   "source": [
    "{0: 1, 1: 1, 2: 1, 3: 1, 4: 1, 5: 1, 6: 1, 7: 3, 8: 2, 9: 2, 10: 2, 11: 4, 12: 4, 13: 4, 14: 4, 15: 4, 16: 3, 17: 3, 18: 2, 19: 2, 20: 2, 21: 2, 22: 1, 23: 2}\n",
    "\n",
    "\n",
    "shifts = {\n",
    "    0: [\"7:00\", 8],\n",
    "    1: [\"7:00\", 10],\n",
    "    2: [\"7:00\", 12],\n",
    "    3: [\"11:00\", 8],\n",
    "    4: [\"11:00\", 10],\n",
    "    5: [\"11:00\", 12],\n",
    "    6: [\"15:00\", 8],\n",
    "    7: [\"15:00\", 10],\n",
    "    8: [\"15:00\", 12],\n",
    "    9: [\"19:00\", 8],\n",
    "    10: [\"19:00\", 10],\n",
    "    11: [\"19:00\", 12],\n",
    "    12: [\"23:00\", 8],\n",
    "    13: [\"23:00\", 10],\n",
    "    14: [\"23:00\", 12],\n",
    "    15: [\"no schedule\", 0]\n",
    "}\n",
    "\n",
    "shifts_preference = {\n",
    "    0: [\"7:00\", 8, 6],\n",
    "    1: [\"7:00\", 10, 5],\n",
    "    2: [\"7:00\", 12, 3],\n",
    "    3: [\"11:00\", 8, 6],\n",
    "    4: [\"11:00\", 10, 3],\n",
    "    5: [\"11:00\", 12, 4],\n",
    "    6: [\"15:00\", 8, 6],\n",
    "    7: [\"15:00\", 10, 3],\n",
    "    8: [\"15:00\", 12, 1],\n",
    "    9: [\"19:00\", 8, 4],\n",
    "    10: [\"19:00\", 10, 4],\n",
    "    11: [\"19:00\", 12, 2],\n",
    "    12: [\"23:00\", 8, 2],\n",
    "    13: [\"23:00\", 10, 3],\n",
    "    14: [\"23:00\", 12, 3],\n",
    "    15: [\"no schedule\", 0, 0]\n",
    "}\n",
    "\n",
    "[  0.           5.          15.          12.           1.\n",
    "   4.         842.97177178]"
   ]
  },
  {
   "cell_type": "markdown",
   "metadata": {},
   "source": [
    "### Список использованных источников:\n",
    "\n",
    "- https://core.ac.uk/download/pdf/268766133.pdf"
   ]
  }
 ],
 "metadata": {
  "kernelspec": {
   "display_name": "Python 3",
   "language": "python",
   "name": "python3"
  },
  "language_info": {
   "codemirror_mode": {
    "name": "ipython",
    "version": 3
   },
   "file_extension": ".py",
   "mimetype": "text/x-python",
   "name": "python",
   "nbconvert_exporter": "python",
   "pygments_lexer": "ipython3",
   "version": "3.10.0"
  }
 },
 "nbformat": 4,
 "nbformat_minor": 2
}
